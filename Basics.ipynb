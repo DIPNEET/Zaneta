{
 "metadata": {
  "language_info": {
   "codemirror_mode": {
    "name": "ipython",
    "version": 3
   },
   "file_extension": ".py",
   "mimetype": "text/x-python",
   "name": "python",
   "nbconvert_exporter": "python",
   "pygments_lexer": "ipython3",
   "version": "3.7.6-final"
  },
  "orig_nbformat": 2,
  "kernelspec": {
   "name": "python3",
   "display_name": "Python 3",
   "language": "python"
  }
 },
 "nbformat": 4,
 "nbformat_minor": 2,
 "cells": [
  {
   "cell_type": "code",
   "execution_count": 3,
   "metadata": {},
   "outputs": [
    {
     "output_type": "stream",
     "name": "stdout",
     "text": [
      "23\n65\n12\n87\n9\n"
     ]
    }
   ],
   "source": [
    "#list in python is like an array  indexing starts with 0\n",
    "b=[23,65,12,87,9]\n",
    "\n",
    "#print(b)\n",
    "for i in b:\n",
    "    print(i)"
   ]
  },
  {
   "cell_type": "code",
   "execution_count": 5,
   "metadata": {},
   "outputs": [
    {
     "output_type": "stream",
     "name": "stdout",
     "text": [
      "0\n1\n2\n3\n4\n"
     ]
    }
   ],
   "source": [
    "n=0\n",
    "while n<5:\n",
    "    print(n)\n",
    "    n+=1 "
   ]
  },
  {
   "cell_type": "code",
   "execution_count": 10,
   "metadata": {},
   "outputs": [],
   "source": [
    "#repeat until\n",
    "  "
   ]
  },
  {
   "cell_type": "code",
   "execution_count": 13,
   "metadata": {},
   "outputs": [],
   "source": [
    "def sum(a,b):\n",
    "    c=a+b\n",
    "    print(c)\n"
   ]
  },
  {
   "cell_type": "code",
   "execution_count": 14,
   "metadata": {},
   "outputs": [
    {
     "output_type": "stream",
     "name": "stdout",
     "text": [
      "160\n"
     ]
    }
   ],
   "source": [
    "sum(90,70)"
   ]
  },
  {
   "cell_type": "code",
   "execution_count": 1,
   "metadata": {},
   "outputs": [
    {
     "output_type": "stream",
     "name": "stdout",
     "text": [
      "guess is low\n",
      "guess is high\n",
      "guess is high\n",
      "you guessed it!\n",
      "You Won!!\n"
     ]
    }
   ],
   "source": [
    "import random\n",
    "n = random.randint(1,9)\n",
    "max_chances = 0\n",
    "while max_chances <5:\n",
    "    guess = int(input(\"Enter a number from 1 to 9: \"))\n",
    "\n",
    "    max_chances += 1\n",
    "    if guess < n:\n",
    "        print(\"guess is low\")\n",
    "        \n",
    "    elif guess > n:\n",
    "        print(\"guess is high\")\n",
    "       \n",
    "    else:\n",
    "        print(\"you guessed it!\")\n",
    "        print(\"You Won!!\")\n",
    "        break\n",
    "    \n",
    "if guess != n:\n",
    "    print(\"Game Over\")\n",
    "    print(\"Correct Number is:\", n)"
   ]
  },
  {
   "cell_type": "code",
   "execution_count": 12,
   "metadata": {},
   "outputs": [
    {
     "output_type": "stream",
     "name": "stdout",
     "text": [
      "1\n2\n3\n4\n"
     ]
    }
   ],
   "source": [
    "#range function    (start , end, step size ~ default 1)\n",
    "for i in range(1,5):                                                 \n",
    "    print(i)                                                              "
   ]
  },
  {
   "cell_type": "code",
   "execution_count": 14,
   "metadata": {},
   "outputs": [
    {
     "output_type": "stream",
     "name": "stdout",
     "text": [
      "1\n2\n3\n4\n"
     ]
    }
   ],
   "source": [
    "i=1\n",
    "while i<5:\n",
    "    print(i)\n",
    "    i+=1     "
   ]
  },
  {
   "cell_type": "code",
   "execution_count": 19,
   "metadata": {},
   "outputs": [
    {
     "output_type": "stream",
     "name": "stdout",
     "text": [
      "60\n"
     ]
    }
   ],
   "source": [
    "#user defined /custom function\n",
    "\n",
    "def sum(n1,n2):\n",
    "    a=n1+n2\n",
    "    print(a)\n",
    "\n",
    "a=int(input(\"Enter 1st number to add\") )    \n",
    "b=int(input(\"Enter 2nd number to add\") )\n",
    "sum(a,b)\n",
    "\n"
   ]
  },
  {
   "cell_type": "code",
   "execution_count": 36,
   "metadata": {},
   "outputs": [
    {
     "output_type": "stream",
     "name": "stdout",
     "text": [
      "[23, 54, 76, (23, 45)]\n"
     ]
    }
   ],
   "source": [
    "#lists in python   --> A kind of an array a=[1,34,8,34]\n",
    "\n",
    "q=[23,54,76,(23,45)]   # list consist of integers\n",
    "print( q )"
   ]
  },
  {
   "cell_type": "code",
   "execution_count": 60,
   "metadata": {},
   "outputs": [
    {
     "output_type": "stream",
     "name": "stdout",
     "text": [
      "10\n"
     ]
    }
   ],
   "source": [
    "#tuple in python\n",
    "\n",
    "r=(10,20,30,40,[23,67])\n",
    "print(r[0])"
   ]
  },
  {
   "cell_type": "code",
   "execution_count": 64,
   "metadata": {},
   "outputs": [
    {
     "output_type": "execute_result",
     "data": {
      "text/plain": [
       "2"
      ]
     },
     "metadata": {},
     "execution_count": 64
    }
   ],
   "source": [
    "f = open(\"Zaneta.txt\",'w')  #opens a file    mode: r,w,a,wr,rw     rb,wb\n",
    "f.write(\"hi\")  #read and store\n",
    "\n"
   ]
  },
  {
   "cell_type": "code",
   "execution_count": 65,
   "metadata": {},
   "outputs": [
    {
     "output_type": "stream",
     "name": "stdout",
     "text": [
      "b'hi'\n"
     ]
    }
   ],
   "source": [
    "fr = open(\"Zaneta.txt\",'rb')\n",
    "data=fr.read()\n",
    "print(data)"
   ]
  },
  {
   "cell_type": "code",
   "execution_count": 76,
   "metadata": {},
   "outputs": [
    {
     "output_type": "stream",
     "name": "stdout",
     "text": [
      "['Zaneta', 'Yovela']\n"
     ]
    }
   ],
   "source": [
    "d=\"Zaneta,Yovela\"  #string\n",
    "\n",
    "e=d.split(',') #split function on d & stored it in e  by default takes space as separator\n",
    "print(e)"
   ]
  },
  {
   "cell_type": "code",
   "execution_count": null,
   "metadata": {},
   "outputs": [],
   "source": []
  }
 ]
}